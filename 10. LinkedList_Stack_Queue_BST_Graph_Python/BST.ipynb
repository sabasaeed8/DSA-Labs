{
 "cells": [
  {
   "cell_type": "markdown",
   "metadata": {},
   "source": [
    "# Binary Search Tree"
   ]
  },
  {
   "cell_type": "code",
   "execution_count": 10,
   "metadata": {},
   "outputs": [],
   "source": [
    "class Node:\n",
    "    def __init__(self,key):\n",
    "        self.key = key\n",
    "        self.left = None\n",
    "        self.right = None"
   ]
  },
  {
   "cell_type": "code",
   "execution_count": 45,
   "metadata": {},
   "outputs": [],
   "source": [
    "class BST:\n",
    "    def __init__(self):\n",
    "        self.root = None\n",
    "        \n",
    "#   // **************** IsEmpty ****************** //\n",
    "    def IsEmpty(self):\n",
    "        if (self.root == None):\n",
    "            return True\n",
    "        else:\n",
    "            return False\n",
    "#   // **************** Insert Node ****************** //\n",
    "    def insert_node(self,key):\n",
    "        y = None\n",
    "        x = self.root\n",
    "        new_node = Node(key)\n",
    "        while(x!= None):\n",
    "            y=x\n",
    "            if (key < x.key):\n",
    "                x=x.left\n",
    "            else:\n",
    "                x=x.right\n",
    "        if(y==None):\n",
    "            self.root = new_node\n",
    "        elif(key < y.key):\n",
    "            y.left = new_node\n",
    "        else:\n",
    "            y.right = new_node\n",
    "            \n",
    "#   // **************** Find Node ****************** //\n",
    "    def find_node(self,key):\n",
    "        if(self.root == None):\n",
    "            return None\n",
    "        if(key == self.root.key):\n",
    "            print(key,\"is present\")\n",
    "            return True\n",
    "        elif(key < self.root.key):\n",
    "            self.root = self.root.left\n",
    "            return find_node(key)\n",
    "        else:\n",
    "            self.root = self.root.right\n",
    "            return find_node(key)\n",
    "        return False\n",
    "    \n",
    "#   // **************** Delete Node ****************** //\n",
    "    \n",
    "\n",
    "#   // **************** Inorder ****************** //\n",
    "    def inorder(self,root):\n",
    "        if(root != None):\n",
    "            self.inorder(root.left)\n",
    "            print(root.key, \" \" , end=\"\")\n",
    "            self.inorder(root.right)\n",
    "            \n",
    "#   // **************** Preorder ****************** //\n",
    "    def preorder(self,root):\n",
    "        if(root != None):\n",
    "            print(root.key, \" \" , end=\"\")\n",
    "            self.preorder(root.left)\n",
    "            self.preorder(root.right)\n",
    "            \n",
    "#   // **************** Postorder ****************** //\n",
    "    def postorder(self,root):\n",
    "        if(root != None):\n",
    "            self.postorder(root.left)\n",
    "            self.postorder(root.right)\n",
    "            print(root.key, \" \" , end=\"\")\n",
    "\n",
    "    "
   ]
  },
  {
   "cell_type": "code",
   "execution_count": 49,
   "metadata": {},
   "outputs": [
    {
     "name": "stdout",
     "output_type": "stream",
     "text": [
      "Implementation of BST\n",
      "Inorder Traversal :\n",
      "20  30  40  50  60  70  80  \n",
      "\n",
      "Preorder Traversal :\n",
      "50  30  20  40  70  60  80  \n",
      "\n",
      "Postorder Traversal :\n",
      "20  40  30  60  80  70  50  \n",
      "\n"
     ]
    }
   ],
   "source": [
    "print(\"Implementation of BST\")\n",
    "bst1 = BST()\n",
    "bst1.insert_node(50)\n",
    "bst1.insert_node(30)\n",
    "bst1.insert_node(20)\n",
    "bst1.insert_node(40)\n",
    "bst1.insert_node(70)\n",
    "bst1.insert_node(60)\n",
    "bst1.insert_node(80)\n",
    " \n",
    "# Print inorder traversal of the BST\n",
    "print(\"Inorder Traversal :\")\n",
    "bst1.inorder(bst1.root)\n",
    "print(\"\\n\")\n",
    "\n",
    "# Print preorder traversal of the BST\n",
    "print(\"Preorder Traversal :\")\n",
    "bst1.preorder(bst1.root)\n",
    "print(\"\\n\")\n",
    "\n",
    "# Print postorder traversal of the BST\n",
    "print(\"Postorder Traversal :\")\n",
    "bst1.postorder(bst1.root)\n",
    "print(\"\\n\")"
   ]
  },
  {
   "cell_type": "code",
   "execution_count": null,
   "metadata": {},
   "outputs": [],
   "source": []
  }
 ],
 "metadata": {
  "kernelspec": {
   "display_name": "Python 3",
   "language": "python",
   "name": "python3"
  },
  "language_info": {
   "codemirror_mode": {
    "name": "ipython",
    "version": 3
   },
   "file_extension": ".py",
   "mimetype": "text/x-python",
   "name": "python",
   "nbconvert_exporter": "python",
   "pygments_lexer": "ipython3",
   "version": "3.7.4"
  }
 },
 "nbformat": 4,
 "nbformat_minor": 2
}
