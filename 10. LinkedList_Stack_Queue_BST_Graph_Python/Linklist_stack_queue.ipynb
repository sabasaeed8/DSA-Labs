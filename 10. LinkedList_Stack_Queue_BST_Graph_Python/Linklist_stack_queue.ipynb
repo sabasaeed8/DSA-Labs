{
 "cells": [
  {
   "cell_type": "markdown",
   "metadata": {},
   "source": [
    "# Lab 10"
   ]
  },
  {
   "cell_type": "markdown",
   "metadata": {},
   "source": [
    "# Linked List"
   ]
  },
  {
   "cell_type": "code",
   "execution_count": 34,
   "metadata": {},
   "outputs": [],
   "source": [
    "class Node:\n",
    "    def __init__(self,data):\n",
    "        self.data = data\n",
    "        self.next = None"
   ]
  },
  {
   "cell_type": "code",
   "execution_count": 43,
   "metadata": {},
   "outputs": [],
   "source": [
    "class LinkedList:\n",
    "    def __init__(self):\n",
    "        self.head = None\n",
    "        \n",
    "#     // ******** Adding new node to link list *********//\n",
    "    def add_node(self,data):\n",
    "        new_Node = Node(data)\n",
    "        if (self.head == None):\n",
    "            self.head = new_Node\n",
    "        else:\n",
    "           n = self.head\n",
    "           while(n.next != None):\n",
    "              n = n.next\n",
    "           n.next = new_Node\n",
    "        \n",
    "#     // ********* Insertion at head ************* //\n",
    "    def add_node_head(self,data):\n",
    "        new_Node = Node(data)\n",
    "        new_Node.next = self.head\n",
    "        self.head = new_Node\n",
    "    \n",
    "#     //********* Insertion at end *********//\n",
    "    def add_node_end(self,data):\n",
    "        new_Node = Node(data)\n",
    "        n = self.head\n",
    "        while(n.next != None):\n",
    "            n = n.next\n",
    "        n.next = new_Node\n",
    "        \n",
    "#     //********* Display List *********//        \n",
    "    def printlist(self):\n",
    "        if self.head == None:\n",
    "            print(\"linked list is empty\")\n",
    "        else:\n",
    "            n = self.head\n",
    "            while (n != None):\n",
    "                print(n.data,\"->\",end=\"\")\n",
    "                n=n.next"
   ]
  },
  {
   "cell_type": "code",
   "execution_count": 48,
   "metadata": {},
   "outputs": [
    {
     "name": "stdout",
     "output_type": "stream",
     "text": [
      "Linked_List\n",
      "Adding nodes to linkedlist\n",
      "5 ->7 ->6 ->8 ->\n",
      "\n",
      "Insertion at head:insert 9 \n",
      "9 ->5 ->7 ->6 ->8 ->\n",
      "\n",
      "Insertion at end:insert 10 \n",
      "9 ->5 ->7 ->6 ->8 ->10 ->"
     ]
    }
   ],
   "source": [
    "print(\"Linked_List\")\n",
    "# Adding Node\n",
    "print (\"Adding nodes to linkedlist\")\n",
    "li = LinkedList();\n",
    "li.add_node(5);\n",
    "li.add_node(7);\n",
    "li.add_node(6);\n",
    "li.add_node(8);\n",
    "li.printlist();\n",
    "print(\"\\n\")\n",
    "\n",
    "# insert at head\n",
    "print (\"Insertion at head:insert 9 \")\n",
    "li.add_node_head(9)\n",
    "li.printlist();\n",
    "print(\"\\n\")\n",
    "\n",
    "# insert at end\n",
    "print (\"Insertion at end:insert 10 \")\n",
    "li.add_node_end(10)\n",
    "li.printlist();"
   ]
  },
  {
   "cell_type": "markdown",
   "metadata": {},
   "source": [
    "# Stack "
   ]
  },
  {
   "cell_type": "code",
   "execution_count": 67,
   "metadata": {},
   "outputs": [],
   "source": [
    "class stack:\n",
    "    def __init__(self):\n",
    "        self.top = None;\n",
    "        \n",
    "#     // *********** PUSH **********//\n",
    "    def push(self,data):\n",
    "        new_top = Node(data)\n",
    "        new_top.next = self.top\n",
    "        self.top = new_top\n",
    "    \n",
    "#     // *********** POP **********//\n",
    "    def pop(self):\n",
    "        n = self.top\n",
    "        if(self.top == None):\n",
    "            print(\"Stack is empty\")\n",
    "        self.top = self.top.next\n",
    "        del(n)\n",
    "    \n",
    "#     // *********** TOP ELEMENT **********//\n",
    "    def peek(self):\n",
    "        if(self.top == None):\n",
    "            print(\"Stack is empty\")\n",
    "        return self.top.data\n",
    "    \n",
    "#     // *********** EMPTY_STACK **********/\n",
    "    def isEmpty(self):\n",
    "        if(self.top == None):\n",
    "            return True\n",
    "        else:\n",
    "            return False\n",
    "        \n",
    "#    // *********** DISPLAY STACK **********//\n",
    "    def display_stack(self):\n",
    "        n = self.top;\n",
    "        if(self.top == None):\n",
    "            print(\"Stack is empty\")\n",
    "        else:\n",
    "            while(n!= None):\n",
    "                print(n.data,\"->\",end=\"\")\n",
    "                n=n.next\n"
   ]
  },
  {
   "cell_type": "code",
   "execution_count": 70,
   "metadata": {},
   "outputs": [
    {
     "name": "stdout",
     "output_type": "stream",
     "text": [
      "Stack Implementation\n",
      "\n",
      "Push in stack\n",
      "9 ->6 ->5 ->4 ->3 ->2 ->\n",
      "\n",
      "Top element in stack:  9\n",
      "\n",
      "\n",
      "Pop 9 and 6\n",
      "5 ->4 ->3 ->2 ->"
     ]
    }
   ],
   "source": [
    "print(\"Stack Implementation\\n\")\n",
    "# push in stack\n",
    "print(\"Push in stack\")\n",
    "stack1 = stack()\n",
    "stack1.push(2)\n",
    "stack1.push(3)\n",
    "stack1.push(4)\n",
    "stack1.push(5)\n",
    "stack1.push(6)\n",
    "stack1.push(9)\n",
    "stack1.display_stack()\n",
    "print(\"\\n\")\n",
    "\n",
    "# peek element\n",
    "print(\"Top element in stack: \", stack1.peek() )\n",
    "print(\"\\n\")\n",
    "\n",
    "# pop\n",
    "print(\"Pop 9 and 6\")\n",
    "stack1.pop()\n",
    "stack1.pop()\n",
    "stack1.display_stack()"
   ]
  },
  {
   "cell_type": "markdown",
   "metadata": {},
   "source": [
    "# Queue"
   ]
  },
  {
   "cell_type": "code",
   "execution_count": 74,
   "metadata": {},
   "outputs": [],
   "source": [
    "class queue:\n",
    "    def __init__(self):\n",
    "        self.first = None\n",
    "        self.last = None\n",
    "        \n",
    "#     // *********** Enqueue **********//\n",
    "    def enqueue(self,data):\n",
    "        new_node = Node(data)\n",
    "        if (self.first == None and self.last == None):\n",
    "            self.first = new_node\n",
    "            self.last = new_node\n",
    "        else:\n",
    "            self.last.next = new_node\n",
    "            self.last = new_node\n",
    "    \n",
    "#     // *********** Dequeue **********//\n",
    "    def dequeue(self):\n",
    "        n = self.first\n",
    "        if(self.first == None):\n",
    "            print(\"Queue is empty\")\n",
    "        if (self.first == self.last):\n",
    "            self.first=self.last=None\n",
    "        else:\n",
    "            self.first = self.first.next\n",
    "        del(n)\n",
    "    \n",
    "#     // *********** TOP ELEMENT **********//\n",
    "    def peek(self):\n",
    "        if(self.first == None):\n",
    "            print(\"Queue is empty\")\n",
    "        return self.first.data\n",
    "    \n",
    "#     // *********** EMPTY_QUEUE **********/\n",
    "    def isEmpty(self):\n",
    "        if(self.first == None):\n",
    "            return True\n",
    "        else:\n",
    "            return False\n",
    "        \n",
    "#    // *********** DISPLAY QUEUE **********//\n",
    "    def display_queue(self):\n",
    "        n = self.first;\n",
    "        if(self.first == None):\n",
    "            print(\"Stack is empty\")\n",
    "        else:\n",
    "            while(n!= None):\n",
    "                print(n.data,\"->\",end=\"\")\n",
    "                n=n.next\n"
   ]
  },
  {
   "cell_type": "code",
   "execution_count": 79,
   "metadata": {},
   "outputs": [
    {
     "name": "stdout",
     "output_type": "stream",
     "text": [
      "Queue Implementation\n",
      "\n",
      "Enqueue\n",
      "2 ->3 ->4 ->5 ->6 ->9 ->\n",
      "\n",
      "First element in Queue:  2\n",
      "\n",
      "\n",
      "Dequeue\n",
      "3 ->4 ->5 ->6 ->9 ->"
     ]
    }
   ],
   "source": [
    "print(\"Queue Implementation\\n\")\n",
    "# Enqueue\n",
    "print(\"Enqueue\")\n",
    "q1 = queue()\n",
    "q1.enqueue(2)\n",
    "q1.enqueue(3)\n",
    "q1.enqueue(4)\n",
    "q1.enqueue(5)\n",
    "q1.enqueue(6)\n",
    "q1.enqueue(9)\n",
    "q1.display_queue()\n",
    "print(\"\\n\")\n",
    "\n",
    "# peek element\n",
    "print(\"First element in Queue: \", q1.peek() )\n",
    "print(\"\\n\")\n",
    "\n",
    "# Dequeue\n",
    "print(\"Dequeue\")\n",
    "q1.dequeue()\n",
    "q1.display_queue()"
   ]
  },
  {
   "cell_type": "code",
   "execution_count": null,
   "metadata": {},
   "outputs": [],
   "source": []
  }
 ],
 "metadata": {
  "kernelspec": {
   "display_name": "Python 3",
   "language": "python",
   "name": "python3"
  },
  "language_info": {
   "codemirror_mode": {
    "name": "ipython",
    "version": 3
   },
   "file_extension": ".py",
   "mimetype": "text/x-python",
   "name": "python",
   "nbconvert_exporter": "python",
   "pygments_lexer": "ipython3",
   "version": "3.7.4"
  }
 },
 "nbformat": 4,
 "nbformat_minor": 2
}
