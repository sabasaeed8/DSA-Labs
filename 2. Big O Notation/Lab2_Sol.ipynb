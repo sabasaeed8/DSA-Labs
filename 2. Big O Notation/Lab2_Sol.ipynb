{
 "cells": [
  {
   "cell_type": "markdown",
   "metadata": {},
   "source": [
    "# Question1"
   ]
  },
  {
   "cell_type": "markdown",
   "metadata": {},
   "source": [
    "# Base 2 and 16 multiplication"
   ]
  },
  {
   "cell_type": "code",
   "execution_count": 81,
   "metadata": {},
   "outputs": [],
   "source": [
    "# first include a few helper functions that will be useful (like turning integers to digits and back)\n",
    "from multHelpers import *\n",
    "# set up matplotlib, for plotting stuff.\n",
    "%matplotlib inline\n",
    "import matplotlib\n",
    "import numpy as np\n",
    "import matplotlib.pyplot as plt"
   ]
  },
  {
   "cell_type": "code",
   "execution_count": 82,
   "metadata": {},
   "outputs": [],
   "source": [
    "# For Base 2\n",
    "def karatsuba( X, Y ):\n",
    "    return karatsuba_helper( getDigits(X), getDigits(Y))\n",
    "\n",
    "def karatsuba_helper( x, y ):  \n",
    "    n = max( len(x), len(y) )\n",
    "    # pad the shorter one with zeros until it's the same length\n",
    "    while len(x) < n:\n",
    "        x.insert(0,0)\n",
    "    while len(y) < n:\n",
    "        y.insert(0,0)\n",
    "    if n == 1:\n",
    "        return x[0]*y[0] # this is the base case, we are allowed to multiply one-digit integers :)\n",
    "    mid = round(n/2)\n",
    "    xhigh = x[:mid] # this is [ x[0], x[1], ..., x[mid-1] ]\n",
    "    xlow = x[mid:] # this is [ x[mid], ..., x[n-1] ]\n",
    "    yhigh = y[:mid]\n",
    "    ylow = y[mid:]\n",
    "    highhigh = karatsuba_helper( xhigh , yhigh )\n",
    "    lowlow = karatsuba_helper( xlow , ylow )\n",
    "    tmpTerm = karatsuba_helper( getDigits( makeInt(xlow) + makeInt(xhigh) ) , getDigits( makeInt(ylow) + makeInt(yhigh) ) )\n",
    "    middleTerm = tmpTerm - highhigh - lowlow # this is equal to highlow + lowhigh in divideAndConquerMult1\n",
    "    HH = getDigits(highhigh) + [ 0 for i in range(2*(n - mid))]\n",
    "    MID = getDigits(middleTerm) + [0 for i in range(n-mid)]\n",
    "    LL = getDigits(lowlow)\n",
    "    result = makeInt(HH) + makeInt(MID) + makeInt(LL)\n",
    "    return result"
   ]
  },
  {
   "cell_type": "code",
   "execution_count": 83,
   "metadata": {},
   "outputs": [
    {
     "name": "stdout",
     "output_type": "stream",
     "text": [
      "0b11011010111101110\n"
     ]
    }
   ],
   "source": [
    "# Implementing base 2 multiplication\n",
    "X = 1010\n",
    "Y = 111\n",
    "print(bin(karatsuba(X,Y)))\n"
   ]
  },
  {
   "cell_type": "code",
   "execution_count": 84,
   "metadata": {},
   "outputs": [],
   "source": [
    "# For base 16\n",
    "def karatsuba( X, Y ):\n",
    "    x = int(X, 16)\n",
    "    y = int(Y, 16)\n",
    "    return karatsuba_helper( getDigits(x), getDigits(y))\n",
    "\n",
    "def karatsuba_helper( x, y ):  \n",
    "    n = max( len(x), len(y) )\n",
    "    # pad the shorter one with zeros until it's the same length\n",
    "    while len(x) < n:\n",
    "        x.insert(0,0)\n",
    "    while len(y) < n:\n",
    "        y.insert(0,0)\n",
    "    if n == 1:\n",
    "        return x[0]*y[0] # this is the base case, we are allowed to multiply one-digit integers :)\n",
    "    mid = round(n/2)\n",
    "    xhigh = x[:mid] # this is [ x[0], x[1], ..., x[mid-1] ]\n",
    "    xlow = x[mid:] # this is [ x[mid], ..., x[n-1] ]\n",
    "    yhigh = y[:mid]\n",
    "    ylow = y[mid:]\n",
    "    highhigh = karatsuba_helper( xhigh , yhigh )\n",
    "    lowlow = karatsuba_helper( xlow , ylow )\n",
    "    tmpTerm = karatsuba_helper( getDigits( makeInt(xlow) + makeInt(xhigh) ) , getDigits( makeInt(ylow) + makeInt(yhigh) ) )\n",
    "    middleTerm = tmpTerm - highhigh - lowlow # this is equal to highlow + lowhigh in divideAndConquerMult1\n",
    "    HH = getDigits(highhigh) + [ 0 for i in range(2*(n - mid))]\n",
    "    MID = getDigits(middleTerm) + [0 for i in range(n-mid)]\n",
    "    LL = getDigits(lowlow)\n",
    "    result = makeInt(HH) + makeInt(MID) + makeInt(LL)\n",
    "    return result"
   ]
  },
  {
   "cell_type": "code",
   "execution_count": 85,
   "metadata": {},
   "outputs": [
    {
     "name": "stdout",
     "output_type": "stream",
     "text": [
      "0x2751\n"
     ]
    }
   ],
   "source": [
    "# Implementing base 16 multiplication\n",
    "X = \"3D\"\n",
    "Y = \"A5\"\n",
    "print(hex(karatsuba(X,Y)))"
   ]
  },
  {
   "cell_type": "markdown",
   "metadata": {},
   "source": [
    "# Quetion2 (a)"
   ]
  },
  {
   "cell_type": "code",
   "execution_count": 130,
   "metadata": {},
   "outputs": [],
   "source": [
    "def Distinctusers(A):\n",
    "    users = []\n",
    "    for i in range (0,len(A)): \n",
    "        a = [k for k in range(A[i][0],A[i][1]+1)] \n",
    "        for j in range (i+1,len(A)):\n",
    "            b = [l for l in range(A[j][0],A[j][1]+1)] \n",
    "            if (a[len(a)-1] in b) or (b[len(b)-1]  in a):\n",
    "                users.append((i+1,j+1))\n",
    "    print(\"Total no of distinct pairs:\" , len(users))\n",
    "    return users   "
   ]
  },
  {
   "cell_type": "code",
   "execution_count": 131,
   "metadata": {},
   "outputs": [
    {
     "name": "stdout",
     "output_type": "stream",
     "text": [
      "Total no of distinct pairs: 4\n",
      "[(1, 2), (3, 4), (3, 5), (4, 5)]\n"
     ]
    }
   ],
   "source": [
    "# implementing Distinctusers\n",
    "A = [(1,4),(2,5),(7,9),(9,10),(6,10)] # indexes shows userId\n",
    "print(Distinctusers(A))"
   ]
  },
  {
   "cell_type": "markdown",
   "metadata": {},
   "source": [
    "# Question2 (b)"
   ]
  },
  {
   "cell_type": "code",
   "execution_count": 132,
   "metadata": {},
   "outputs": [],
   "source": [
    "# merge two sorted arrays to return a sorted array\n",
    "def merge(L, R):\n",
    "    i = 0 # current index in the L array\n",
    "    j = 0 # current index in the R array\n",
    "    ret = []\n",
    "    while i < len(L) and j < len(R):\n",
    "        if L[i] < R[j]:\n",
    "            ret.append(L[i])\n",
    "            i += 1\n",
    "        else:   # ties go to R.  Doesn't really matter.\n",
    "            ret.append(R[j])\n",
    "            j += 1\n",
    "    while i < len(L):\n",
    "        ret.append(L[i])\n",
    "        i += 1\n",
    "    while j < len(R):\n",
    "        ret.append(R[j])\n",
    "        j+= 1\n",
    "    \n",
    "    return ret\n",
    "        \n",
    "def mergeSort(A):\n",
    "    n = len(A)\n",
    "    if n <= 1:\n",
    "        return A\n",
    "    L = mergeSort(A[:round(n/2)])\n",
    "    R = mergeSort(A[round(n/2):n])\n",
    "    return merge(L,R)"
   ]
  },
  {
   "cell_type": "code",
   "execution_count": 134,
   "metadata": {},
   "outputs": [
    {
     "name": "stdout",
     "output_type": "stream",
     "text": [
      "Total no of distinct pairs: 4\n",
      "[(1, 2), (3, 4), (3, 5), (4, 5)]\n"
     ]
    }
   ],
   "source": [
    "A = [(1,4),(2,5),(7,9),(9,10),(6,10)] # indexes shows userId\n",
    "#B = mergeSort(A)\n",
    "print(Distinctusers(mergeSort(A)))"
   ]
  }
 ],
 "metadata": {
  "kernelspec": {
   "display_name": "Python 3",
   "language": "python",
   "name": "python3"
  },
  "language_info": {
   "codemirror_mode": {
    "name": "ipython",
    "version": 3
   },
   "file_extension": ".py",
   "mimetype": "text/x-python",
   "name": "python",
   "nbconvert_exporter": "python",
   "pygments_lexer": "ipython3",
   "version": "3.7.4"
  }
 },
 "nbformat": 4,
 "nbformat_minor": 2
}
