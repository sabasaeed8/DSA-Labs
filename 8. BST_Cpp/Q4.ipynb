{
 "cells": [
  {
   "cell_type": "markdown",
   "metadata": {},
   "source": [
    "# Question no 4:"
   ]
  },
  {
   "cell_type": "code",
   "execution_count": 23,
   "metadata": {},
   "outputs": [],
   "source": [
    "def compareToStick(X):\n",
    "   stick_height = 10;\n",
    "   if X == stick_height:\n",
    "        return \"same\";\n",
    "   if X > stick_height:\n",
    "        return \"taller\";\n",
    "   if X < stick_height:\n",
    "        return \"smaller\";\n",
    "    \n",
    "def ducks_heigh (ducks):\n",
    "    n = len(ducks)\n",
    "    if (n == 1):\n",
    "      if compareToStick(ducks[0]) == \"same\":\n",
    "          return ducks[0]\n",
    "      else:\n",
    "          return \"No such duck\"\n",
    "    if (n == 0):\n",
    "        return \"No such duck\"\n",
    "    L = ducks[:round(n/2)]\n",
    "    R = ducks[round(n/2):n]\n",
    "    mid = round(n/2)\n",
    "    if compareToStick(ducks[mid]) == \"same\":\n",
    "       return ducks[mid]\n",
    "    if compareToStick(ducks[mid])== \"taller\":\n",
    "        return ducks_heigh (L)    \n",
    "    if compareToStick(ducks[mid]) == \"smaller\":\n",
    "        return ducks_heigh (R) \n"
   ]
  },
  {
   "cell_type": "code",
   "execution_count": 24,
   "metadata": {},
   "outputs": [
    {
     "name": "stdout",
     "output_type": "stream",
     "text": [
      "10\n",
      "No such duck\n"
     ]
    }
   ],
   "source": [
    "ducks = [1,2,3,5,10]\n",
    "print(ducks_heigh (ducks))\n",
    "\n",
    "ducks = [1,2,3,5,6,8,9,11]\n",
    "print(ducks_heigh (ducks))\n",
    "\n"
   ]
  }
 ],
 "metadata": {
  "kernelspec": {
   "display_name": "Python 3",
   "language": "python",
   "name": "python3"
  },
  "language_info": {
   "codemirror_mode": {
    "name": "ipython",
    "version": 3
   },
   "file_extension": ".py",
   "mimetype": "text/x-python",
   "name": "python",
   "nbconvert_exporter": "python",
   "pygments_lexer": "ipython3",
   "version": "3.7.4"
  }
 },
 "nbformat": 4,
 "nbformat_minor": 2
}
