{
 "cells": [
  {
   "cell_type": "markdown",
   "metadata": {},
   "source": [
    "# Pre-lecture Exercises"
   ]
  },
  {
   "cell_type": "markdown",
   "metadata": {},
   "source": [
    "Suppose you are sorting in DSA (say n students) based on what month they were born in. So, if Plucky and Lucky were both born in January, Siggi was born in April, and Ollie was born in May, then it would be fine to return either {Plucky, Lucky, Siggi, Ollie} or {Lucky, Plucky, Siggi, Ollie }. In the above example, your input would be a list of the form [ (Plucky, 1), (Lucky, 1) , (Siggi, 4), (Ollie, 5) ] (Here the 1 is for January, which is the first month, and so on)."
   ]
  },
  {
   "cell_type": "markdown",
   "metadata": {},
   "source": [
    "1. How would you do this using MergeSort? How long would it take (as a function of n)?"
   ]
  },
  {
   "cell_type": "code",
   "execution_count": 56,
   "metadata": {},
   "outputs": [],
   "source": [
    "# merge two sorted arrays to return a sorted array\n",
    "def merge(L, R):\n",
    "    i = 0 # current index in the L array\n",
    "    j = 0 # current index in the R array\n",
    "    ret = []\n",
    "    while i < len(L) and j < len(R):\n",
    "        if L[i][1] <= R[j][1]:\n",
    "            ret.append(L[i])\n",
    "            i += 1\n",
    "        else:   # ties go to R.  Doesn't really matter.\n",
    "            ret.append(R[j])\n",
    "            j += 1\n",
    "    while i < len(L):\n",
    "        ret.append(L[i])\n",
    "        i += 1\n",
    "    while j < len(R):\n",
    "        ret.append(R[j])\n",
    "        j+= 1    \n",
    "    return ret\n",
    " \n",
    "def mergeSort(A):\n",
    "   # D = [A[i][1] for i in range (len(A))]\n",
    "    n = len(A)\n",
    "    if n <= 1:\n",
    "        return A\n",
    "    L = mergeSort(A[:round(n/2)])\n",
    "    R = mergeSort(A[round(n/2):n])\n",
    "    return (merge(L,R))\n",
    "\n",
    "def sortByBirth_MS(A):\n",
    "    m = mergeSort(A)\n",
    "    sorted_A = [m[i][0] for i in range (len(m))]\n",
    "    return sorted_A         "
   ]
  },
  {
   "cell_type": "code",
   "execution_count": 57,
   "metadata": {},
   "outputs": [
    {
     "name": "stdout",
     "output_type": "stream",
     "text": [
      "['Plucky', 'Lucky', 'Siggi', 'Ollie']\n"
     ]
    }
   ],
   "source": [
    "A = sortByBirth_MS([ (\"Plucky\", 1), (\"Lucky\", 1) ,(\"Siggi\", 4), (\"Ollie\", 5) ])\n",
    "print(A)"
   ]
  },
  {
   "cell_type": "markdown",
   "metadata": {},
   "source": [
    "Time Complexity: O(nlogn)"
   ]
  },
  {
   "cell_type": "markdown",
   "metadata": {},
   "source": [
    "2. Can you think of a way to do it faster? [Hint, there is a way to do it faster.]"
   ]
  },
  {
   "cell_type": "code",
   "execution_count": 58,
   "metadata": {},
   "outputs": [],
   "source": [
    "def sortByBirth(A):\n",
    "    for i in range (len(A) - 1):\n",
    "        if A[i][1] > A[i+1][1]:\n",
    "            temp = A[i]\n",
    "            A[i] = A[i+1]\n",
    "            A[i+1] = temp\n",
    "            i-=1\n",
    "        i+=1\n",
    "    sorted_A = [A[i][0] for i in range (len(A))]\n",
    "    return sorted_A"
   ]
  },
  {
   "cell_type": "code",
   "execution_count": 59,
   "metadata": {},
   "outputs": [
    {
     "name": "stdout",
     "output_type": "stream",
     "text": [
      "['Plucky', 'Lucky', 'Siggi', 'Ollie']\n"
     ]
    }
   ],
   "source": [
    "A = sortByBirth([ (\"Plucky\", 1), (\"Lucky\", 1) ,(\"Siggi\", 4), (\"Ollie\", 5) ])\n",
    "print(A)"
   ]
  },
  {
   "cell_type": "markdown",
   "metadata": {},
   "source": [
    "Time Complexity :  O(n)"
   ]
  },
  {
   "cell_type": "markdown",
   "metadata": {},
   "source": [
    "# Question no.2 "
   ]
  },
  {
   "cell_type": "markdown",
   "metadata": {},
   "source": [
    "# Counting Inversions:"
   ]
  },
  {
   "cell_type": "markdown",
   "metadata": {},
   "source": [
    "Given an array A of n elements, we call (i, j) an inversion if 0 ≤ I < j < n and A[i] > A[j].\n"
   ]
  },
  {
   "cell_type": "markdown",
   "metadata": {},
   "source": [
    "(a) Describe an O(n^2) algorithm to count the number of inversions in a given array."
   ]
  },
  {
   "cell_type": "code",
   "execution_count": 60,
   "metadata": {},
   "outputs": [],
   "source": [
    "def countInversions(A):\n",
    "    n = len(A);\n",
    "    count = 0;\n",
    "    for i in range(n):\n",
    "        for j in range(i+1,n):\n",
    "            if A[i] > A[j]:\n",
    "                count +=1;\n",
    "    return count;"
   ]
  },
  {
   "cell_type": "code",
   "execution_count": 61,
   "metadata": {},
   "outputs": [
    {
     "name": "stdout",
     "output_type": "stream",
     "text": [
      "No of inversions:  7\n"
     ]
    }
   ],
   "source": [
    "# Driver code\n",
    "A = [1,8,2,9,5,6,7,22]\n",
    "print (\"No of inversions: \",countInversions(A))"
   ]
  },
  {
   "cell_type": "markdown",
   "metadata": {},
   "source": [
    "# Description:"
   ]
  },
  {
   "cell_type": "markdown",
   "metadata": {},
   "source": [
    "This algorithm compares each element of array with every other element of A and check if it is greater than the other one,It increments the count. It returns the count which is the number of inversions (how far (or close) the array is from being sorted)."
   ]
  },
  {
   "cell_type": "markdown",
   "metadata": {},
   "source": [
    "(b) Describe an O(n*log(n)) algorithm to count the number of inversions in a given array. \n"
   ]
  },
  {
   "cell_type": "markdown",
   "metadata": {},
   "source": [
    "[Hint: Think about how you can modify MergeSort to solve this problem.]"
   ]
  },
  {
   "cell_type": "code",
   "execution_count": 62,
   "metadata": {},
   "outputs": [],
   "source": [
    "def merge(L, R, L_count,R_count):\n",
    "\n",
    "    i = 0 # current index in the L array\n",
    "    j = 0 # current index in the R array\n",
    "    ret = []\n",
    "    count = 0 + L_count + R_count ;\n",
    "    while i < len(L) and j < len(R):\n",
    "        if L[i] < R[j]:\n",
    "            ret.append(L[i])\n",
    "            i += 1\n",
    "        else:   # ties go to R.  Doesn't really matter.\n",
    "            ret.append(R[j])\n",
    "            count += (len(L)-i)\n",
    "            j += 1\n",
    "            \n",
    "    while i < len(L):\n",
    "        ret.append(L[i])\n",
    "        i += 1\n",
    "    while j < len(R):\n",
    "        ret.append(R[j])\n",
    "        j+= 1   \n",
    "    return ret,count\n",
    "\n",
    "def mergeSort(A):\n",
    "    n = len(A)\n",
    "    if n <= 1:\n",
    "        return A,0\n",
    "    L,L_count = mergeSort(A[:round(n/2)])\n",
    "    R,R_count = mergeSort(A[round(n/2):n])\n",
    "    return merge(L,R,L_count,R_count)\n",
    "\n",
    "def countInversions_MS(A):\n",
    "    m = mergeSort(A)\n",
    "    return m[1]"
   ]
  },
  {
   "cell_type": "code",
   "execution_count": 63,
   "metadata": {},
   "outputs": [
    {
     "name": "stdout",
     "output_type": "stream",
     "text": [
      "No of inversions:  7\n"
     ]
    }
   ],
   "source": [
    "# Driver code\n",
    "A = [1,8,2,9,5,6,7,22]\n",
    "print (\"No of inversions: \",countInversions_MS(A))"
   ]
  },
  {
   "cell_type": "markdown",
   "metadata": {},
   "source": [
    "# Description:"
   ]
  },
  {
   "cell_type": "markdown",
   "metadata": {},
   "source": [
    "This algorithm divides the array into two halves and count the number of inversions in each half and returns the total number of inversions. "
   ]
  },
  {
   "cell_type": "markdown",
   "metadata": {},
   "source": [
    "Running time: Just like merge sort, Its running time is O(nlogn)."
   ]
  },
  {
   "cell_type": "markdown",
   "metadata": {},
   "source": [
    "# Question no.3"
   ]
  },
  {
   "cell_type": "markdown",
   "metadata": {},
   "source": [
    "a) Design an algorithm to sort the ducks which takes O(n) seconds and requires you to remember no more than seven integers*** between 0 and n − 1 at a time."
   ]
  },
  {
   "cell_type": "code",
   "execution_count": 64,
   "metadata": {},
   "outputs": [],
   "source": [
    "import random\n",
    "def fav_Acitivity(X):\n",
    "   X = random.choice(['Eating','Idling', 'Honking'])\n",
    "   return X\n",
    "def sortDucks(A):\n",
    "    right = []\n",
    "    center = []\n",
    "    left = []\n",
    "    for i in range(len(A)):\n",
    "        activity = fav_Acitivity(A[i])\n",
    "        if  activity == 'Eating':\n",
    "            right.append(A[i])\n",
    "        if activity == 'Idling':\n",
    "            center.append(A[i])\n",
    "        if activity == 'Honking':\n",
    "            left.append(A[i])\n",
    "    print ('Eating ducks:' ,right)\n",
    "    print ('Idling ducks:' ,center)\n",
    "    print ('Honking ducks:' ,left)\n",
    "    \n",
    "    return (right + center + left)"
   ]
  },
  {
   "cell_type": "code",
   "execution_count": 65,
   "metadata": {},
   "outputs": [
    {
     "name": "stdout",
     "output_type": "stream",
     "text": [
      "Eating ducks: ['D2', 'D3', 'D7', 'D10']\n",
      "Idling ducks: ['D1', 'D9', 'D12']\n",
      "Honking ducks: ['D4', 'D5', 'D6', 'D8', 'D11']\n",
      "['D2', 'D3', 'D7', 'D10', 'D1', 'D9', 'D12', 'D4', 'D5', 'D6', 'D8', 'D11']\n"
     ]
    }
   ],
   "source": [
    "A = ['D1','D2','D3','D4','D5','D6','D7','D8','D9','D10','D11','D12'] \n",
    "print(sortDucks(A))"
   ]
  },
  {
   "cell_type": "markdown",
   "metadata": {},
   "source": [
    "Description: "
   ]
  },
  {
   "cell_type": "code",
   "execution_count": null,
   "metadata": {},
   "outputs": [],
   "source": [
    "SortDucks takes array of ducks as input and ask each duck about its favourite activity and sort them according to their favourite activity."
   ]
  },
  {
   "cell_type": "markdown",
   "metadata": {},
   "source": [
    "b) Justify why your algorithm is correct, why it takes only O(n) seconds, and why it requires you to remember no more than seven integers at a time."
   ]
  },
  {
   "cell_type": "markdown",
   "metadata": {},
   "source": [
    "Answer: This algorithm asks ducks about their favourite activity and sort them according to it. As only one loop is used to iterate through a list of ducks. \n",
    "So, it takes only O(n) seconds to sort ducks."
   ]
  },
  {
   "cell_type": "markdown",
   "metadata": {},
   "source": [
    "Running time: O(n)"
   ]
  },
  {
   "cell_type": "markdown",
   "metadata": {},
   "source": [
    "It takes no more than 7 integers at a time because the number of objects an average human can hold in short-term memory is 7."
   ]
  }
 ],
 "metadata": {
  "kernelspec": {
   "display_name": "Python 3",
   "language": "python",
   "name": "python3"
  },
  "language_info": {
   "codemirror_mode": {
    "name": "ipython",
    "version": 3
   },
   "file_extension": ".py",
   "mimetype": "text/x-python",
   "name": "python",
   "nbconvert_exporter": "python",
   "pygments_lexer": "ipython3",
   "version": "3.7.4"
  }
 },
 "nbformat": 4,
 "nbformat_minor": 2
}
